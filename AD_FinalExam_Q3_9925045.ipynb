{
 "cells": [
  {
   "cell_type": "code",
   "execution_count": 1,
   "metadata": {},
   "outputs": [],
   "source": [
    "import heapq\n",
    "class Node:\n",
    "    def __init__(self, value):\n",
    "        self.value = value\n",
    "        self.neighbors = []\n",
    "\n",
    "class Edge:\n",
    "    def __init__(self, node1, node2, weight):\n",
    "        self.node1 = node1\n",
    "        self.node2 = node2\n",
    "        self.weight = weight\n",
    "\n",
    "class Graph:\n",
    "    def __init__(self):\n",
    "        self.nodes = []\n",
    "        self.edges = []\n",
    "\n",
    "    def add_node(self, value):\n",
    "        new_node = Node(value)\n",
    "        self.nodes.append(new_node)\n",
    "        return new_node\n",
    "\n",
    "    def add_edge(self, node1, node2, weight=1):\n",
    "        new_edge = Edge(node1, node2, weight)\n",
    "        node1.neighbors.append((node2, weight))\n",
    "        node2.neighbors.append((node1, weight))\n",
    "        self.edges.append(new_edge)\n",
    "        return new_edge\n",
    "\n",
    "    def dijkstra(self, source):\n",
    "        distances = {node: float('infinity') for node in self.nodes}\n",
    "        distances[source] = 0\n",
    "        previous_nodes = {node: None for node in self.nodes}\n",
    "\n",
    "        # Store (distance, unique_identifier, node) in the priority queue\n",
    "        priority_queue = [(0, id(source), source)]\n",
    "\n",
    "        while priority_queue:\n",
    "            current_distance, _, current_node = heapq.heappop(priority_queue)\n",
    "\n",
    "            if current_distance > distances[current_node]:\n",
    "                continue\n",
    "\n",
    "            for neighbor, weight in current_node.neighbors:\n",
    "                distance = current_distance + weight\n",
    "\n",
    "                if distance < distances[neighbor]:\n",
    "                    distances[neighbor] = distance\n",
    "                    previous_nodes[neighbor] = current_node\n",
    "                    heapq.heappush(priority_queue, (distance, id(neighbor), neighbor))\n",
    "\n",
    "        return distances, previous_nodes\n",
    "\n",
    "    def get_graph_from_user(self):\n",
    "        num_nodes = int(input(\"Enter the number of nodes: \"))\n",
    "        for _ in range(num_nodes):\n",
    "            node_value = input(\"Enter the value for a node: \")\n",
    "            self.add_node(node_value)\n",
    "\n",
    "        num_edges = int(input(\"Enter the number of edges: \"))\n",
    "        for _ in range(num_edges):\n",
    "            edge_start = input(\"Enter the value of the starting node for an edge: \")\n",
    "            edge_end = input(\"Enter the value of the ending node for an edge: \")\n",
    "            edge_weight = int(input(\"Enter the weight for the edge: \"))\n",
    "\n",
    "            node_start = next(node for node in self.nodes if node.value == edge_start)\n",
    "            node_end = next(node for node in self.nodes if node.value == edge_end)\n",
    "\n",
    "            self.add_edge(node_start, node_end, edge_weight)\n",
    "        \n",
    "    def get_shortest_path(self, source, end_node, previous_nodes):\n",
    "        path = []\n",
    "        current_node = end_node\n",
    "\n",
    "        while current_node is not None:\n",
    "            path.insert(0, current_node)\n",
    "            current_node = previous_nodes[current_node]\n",
    "\n",
    "        return path\n",
    "\n",
    "    def display_shortest_path_to_node(self, source, end_node):\n",
    "        distances, previous_nodes = self.dijkstra(source)\n",
    "        distance_to_end_node = distances[end_node]\n",
    "        shortest_path = self.get_shortest_path(source, end_node, previous_nodes)\n",
    "\n",
    "        print(f\"Shortest path from node {source.value} to node {end_node.value}:\")\n",
    "        print(f\"Path: {' -> '.join(node.value for node in shortest_path)}\")\n",
    "        print(f\"Distance: {distance_to_end_node}\")\n",
    "        \n",
    "    def display_graph(self):\n",
    "        for node in self.nodes:\n",
    "            neighbors = [(neighbor[0].value, neighbor[1]) for neighbor in node.neighbors]\n",
    "            print(f\"Node {node.value}: Neighbors - {neighbors}\")\n",
    "    "
   ]
  },
  {
   "cell_type": "code",
   "execution_count": 3,
   "metadata": {},
   "outputs": [],
   "source": [
    "# Example usage:\n",
    "my_graph = Graph()\n",
    "\n",
    "# Get the graph from the user\n",
    "my_graph.get_graph_from_user()\n",
    "\n",
    "\n"
   ]
  },
  {
   "cell_type": "code",
   "execution_count": 4,
   "metadata": {},
   "outputs": [
    {
     "name": "stdout",
     "output_type": "stream",
     "text": [
      "Node A: Neighbors - [('B', 2), ('D', 8)]\n",
      "Node B: Neighbors - [('A', 2), ('D', 5), ('E', 6)]\n",
      "Node C: Neighbors - [('F', 3), ('E', 9)]\n",
      "Node D: Neighbors - [('A', 8), ('B', 5), ('E', 3), ('F', 2)]\n",
      "Node E: Neighbors - [('B', 6), ('D', 3), ('F', 1), ('C', 9)]\n",
      "Node F: Neighbors - [('D', 2), ('E', 1), ('C', 3)]\n"
     ]
    }
   ],
   "source": [
    "my_graph.display_graph()"
   ]
  },
  {
   "cell_type": "code",
   "execution_count": 9,
   "metadata": {},
   "outputs": [
    {
     "name": "stdout",
     "output_type": "stream",
     "text": [
      "Shortest path from node A to node C:\n",
      "Path: A -> B -> D -> F -> C\n",
      "Distance: 12\n"
     ]
    }
   ],
   "source": [
    "# Specify a source and end node for Dijkstra's algorithm\n",
    "source_node_value = input(\"Enter the value of the source node: \")\n",
    "end_node_value = input(\"Enter the value of the end node: \")\n",
    "\n",
    "source_node = next(node for node in my_graph.nodes if node.value == source_node_value)\n",
    "end_node = next(node for node in my_graph.nodes if node.value == end_node_value)\n",
    "\n",
    "# Display the shortest path to the end node\n",
    "my_graph.display_shortest_path_to_node(source_node, end_node)"
   ]
  }
 ],
 "metadata": {
  "kernelspec": {
   "display_name": "Python 3",
   "language": "python",
   "name": "python3"
  },
  "language_info": {
   "codemirror_mode": {
    "name": "ipython",
    "version": 3
   },
   "file_extension": ".py",
   "mimetype": "text/x-python",
   "name": "python",
   "nbconvert_exporter": "python",
   "pygments_lexer": "ipython3",
   "version": "3.12.0"
  }
 },
 "nbformat": 4,
 "nbformat_minor": 2
}
