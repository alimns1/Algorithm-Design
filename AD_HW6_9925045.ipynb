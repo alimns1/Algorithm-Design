{
 "cells": [
  {
   "cell_type": "code",
   "execution_count": 69,
   "metadata": {},
   "outputs": [],
   "source": [
    "class node: \n",
    "    def __init__(self, data=None):\n",
    "        self.data = data \n",
    "        self.next = None \n",
    "        \n",
    "class linked_list:\n",
    "    def __init__(self):\n",
    "        self.head=node()\n",
    "        \n",
    "    def append(self, data):\n",
    "        new_node = node(data)\n",
    "        cur = self.head\n",
    "        while cur.next!=None:\n",
    "            cur = cur.next\n",
    "        cur.next=new_node\n",
    "        \n",
    "    def length(self):\n",
    "        cur = self.head\n",
    "        total = 0\n",
    "        while cur.next!=None:\n",
    "            total+=1\n",
    "            cur=cur.next\n",
    "        return total\n",
    "    \n",
    "    def get(self, index):\n",
    "        if index >= self.length() or index<0:\n",
    "            return (None)\n",
    "        cur_idx=0\n",
    "        cur_node = self.head\n",
    "        while True:\n",
    "            cur_node=cur_node.next\n",
    "            if cur_idx==index:\n",
    "                return cur_node.data\n",
    "            cur_idx+=1\n",
    "    def erase(self, index):\n",
    "        cur_idx = 0 \n",
    "        cur_node = self.head\n",
    "        while True:\n",
    "            last_node=cur_node \n",
    "            cur_node = cur_node.next\n",
    "            if cur_idx==index:\n",
    "                last_node.next = cur_node.next\n",
    "                return\n",
    "            cur_idx+=1\n",
    "    def insert_data(self, index, data):\n",
    "        if index >= self.length() - 1 or index<0:\n",
    "            return (None)\n",
    "        \n",
    "        new_node = node(data)\n",
    "        cur_idx = 0\n",
    "        cur_node = self.head\n",
    "        while True:\n",
    "            last_node=cur_node\n",
    "            cur_node = cur_node.next\n",
    "            if cur_idx == index:\n",
    "                break\n",
    "            cur_idx+=1        \n",
    "        last_node.next = new_node\n",
    "        new_node.next = cur_node"
   ]
  },
  {
   "cell_type": "code",
   "execution_count": 81,
   "metadata": {},
   "outputs": [],
   "source": [
    "lls = linked_list()\n",
    "lls.append(1)\n",
    "lls.append(3)\n",
    "lls.append(4)"
   ]
  },
  {
   "cell_type": "code",
   "execution_count": 82,
   "metadata": {},
   "outputs": [
    {
     "name": "stdout",
     "output_type": "stream",
     "text": [
      "None\n"
     ]
    }
   ],
   "source": [
    "print(lls.head.data)"
   ]
  },
  {
   "cell_type": "code",
   "execution_count": 83,
   "metadata": {},
   "outputs": [],
   "source": [
    "lls.insert_data(1,2)"
   ]
  },
  {
   "cell_type": "code",
   "execution_count": 84,
   "metadata": {},
   "outputs": [
    {
     "data": {
      "text/plain": [
       "1"
      ]
     },
     "execution_count": 84,
     "metadata": {},
     "output_type": "execute_result"
    }
   ],
   "source": [
    "lls.get(0)"
   ]
  },
  {
   "cell_type": "code",
   "execution_count": 86,
   "metadata": {},
   "outputs": [
    {
     "data": {
      "text/plain": [
       "2"
      ]
     },
     "execution_count": 86,
     "metadata": {},
     "output_type": "execute_result"
    }
   ],
   "source": [
    "lls.get(1)"
   ]
  },
  {
   "cell_type": "code",
   "execution_count": 87,
   "metadata": {},
   "outputs": [
    {
     "data": {
      "text/plain": [
       "3"
      ]
     },
     "execution_count": 87,
     "metadata": {},
     "output_type": "execute_result"
    }
   ],
   "source": [
    "lls.get(2)"
   ]
  },
  {
   "cell_type": "code",
   "execution_count": 88,
   "metadata": {},
   "outputs": [
    {
     "data": {
      "text/plain": [
       "4"
      ]
     },
     "execution_count": 88,
     "metadata": {},
     "output_type": "execute_result"
    }
   ],
   "source": [
    "lls.get(3)"
   ]
  }
 ],
 "metadata": {
  "kernelspec": {
   "display_name": "Python 3",
   "language": "python",
   "name": "python3"
  },
  "language_info": {
   "codemirror_mode": {
    "name": "ipython",
    "version": 3
   },
   "file_extension": ".py",
   "mimetype": "text/x-python",
   "name": "python",
   "nbconvert_exporter": "python",
   "pygments_lexer": "ipython3",
   "version": "3.12.0"
  }
 },
 "nbformat": 4,
 "nbformat_minor": 2
}
