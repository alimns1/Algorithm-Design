{
 "cells": [
  {
   "cell_type": "code",
   "execution_count": 15,
   "metadata": {},
   "outputs": [],
   "source": [
    "def schedule_courses(subjects):\n",
    "    courses = []\n",
    "    for subject in subjects:\n",
    "        courses.append([subject[1] - subject[0], subject[1]])\n",
    "    # sorting by starting day\n",
    "    courses.sort(key=lambda x: x[0])\n",
    "    # list for scheduled courses\n",
    "    scheduled_courses = []\n",
    "    Num_of_courses = 0\n",
    "\n",
    "    # solving using greedy algorithm prioritizing the length of the course\n",
    "    for course in courses:\n",
    "        status = True\n",
    "        start_day = course[0] + 1\n",
    "        end_day = course[1]\n",
    "        #checking if it's possible\n",
    "        if start_day < 1:\n",
    "            status = False\n",
    "        for i in scheduled_courses:\n",
    "            if (start_day <= i[1] and start_day >= i[0]) or (end_day <= i[1] and end_day >= i[0]):\n",
    "                status = False\n",
    "            #adding course to scheduled\n",
    "        if status == True:\n",
    "            scheduled_courses.append((course[0] + 1, course[1]))\n",
    "            Num_of_courses += 1\n",
    "\n",
    "    return scheduled_courses, Num_of_courses\n"
   ]
  },
  {
   "cell_type": "code",
   "execution_count": 32,
   "metadata": {},
   "outputs": [],
   "source": [
    "num_courses = int(input(\"Enter the number of courses: \"))\n",
    "#defining an empty list for courses\n",
    "courses = []\n",
    "for i in range(num_courses):\n",
    "    course_input = input(f\"Enter elements for course {i + 1} (separated by comma)guide: (length of course, end day of course): \")\n",
    "    course_list = course_input.split(',')\n",
    "    #adding course to list\n",
    "    courses.append(course_list)\n",
    "    #converting values to int\n",
    "    course_list[0] = int(course_list[0])\n",
    "    course_list[1] = int(course_list[1])"
   ]
  },
  {
   "cell_type": "code",
   "execution_count": 33,
   "metadata": {},
   "outputs": [
    {
     "data": {
      "text/plain": [
       "[[5, 5], [1, 3], [1, 5]]"
      ]
     },
     "execution_count": 33,
     "metadata": {},
     "output_type": "execute_result"
    }
   ],
   "source": [
    "courses"
   ]
  },
  {
   "cell_type": "code",
   "execution_count": 36,
   "metadata": {},
   "outputs": [
    {
     "name": "stdout",
     "output_type": "stream",
     "text": [
      "number of courses scheduled is 1 and the scheduled courses are [(1, 5)]\n"
     ]
    }
   ],
   "source": [
    "crs, result = schedule_courses(courses)\n",
    "#printing result\n",
    "print(f\"number of courses scheduled is {result} and the scheduled courses are {crs}\")\n"
   ]
  },
  {
   "cell_type": "code",
   "execution_count": 35,
   "metadata": {},
   "outputs": [
    {
     "data": {
      "text/plain": [
       "[(1, 5)]"
      ]
     },
     "execution_count": 35,
     "metadata": {},
     "output_type": "execute_result"
    }
   ],
   "source": [
    "crs"
   ]
  }
 ],
 "metadata": {
  "kernelspec": {
   "display_name": "Python 3",
   "language": "python",
   "name": "python3"
  },
  "language_info": {
   "codemirror_mode": {
    "name": "ipython",
    "version": 3
   },
   "file_extension": ".py",
   "mimetype": "text/x-python",
   "name": "python",
   "nbconvert_exporter": "python",
   "pygments_lexer": "ipython3",
   "version": "3.12.0"
  }
 },
 "nbformat": 4,
 "nbformat_minor": 2
}
