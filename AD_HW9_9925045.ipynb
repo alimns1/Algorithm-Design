{
 "cells": [
  {
   "cell_type": "markdown",
   "id": "754fc013",
   "metadata": {},
   "source": [
    "# Genetic Algorithm Assignment - Fall 1402\n",
    "\n",
    "# YOUR NAME"
   ]
  },
  {
   "cell_type": "code",
   "execution_count": null,
   "id": "b405c4d4",
   "metadata": {},
   "outputs": [],
   "source": [
    "# Complete here\n",
    "\n",
    "def genR(len_chromosome):\n",
    "    # complete here\n",
    "\n",
    "def gen_Algorithm(crsOver_rate, perMut_rate):\n",
    "    # complete here\n",
    "\n",
    "\n",
    "if __name__ == '__main__':\n",
    "    gen_Algorithm(30, 20)  # crossOver_Rate, mutation_Rate\n"
   ]
  }
 ],
 "metadata": {
  "kernelspec": {
   "display_name": "Python 3 (ipykernel)",
   "language": "python",
   "name": "python3"
  },
  "language_info": {
   "codemirror_mode": {
    "name": "ipython",
    "version": 3
   },
   "file_extension": ".py",
   "mimetype": "text/x-python",
   "name": "python",
   "nbconvert_exporter": "python",
   "pygments_lexer": "ipython3",
   "version": "3.10.9"
  }
 },
 "nbformat": 4,
 "nbformat_minor": 5
}
